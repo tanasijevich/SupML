{
 "cells": [
  {
   "cell_type": "code",
   "execution_count": 1,
   "source": [
    "import numpy as np\r\n",
    "import pandas as pd\r\n",
    "from pathlib import Path"
   ],
   "outputs": [],
   "metadata": {}
  },
  {
   "cell_type": "code",
   "execution_count": 2,
   "source": [
    "train_df = pd.read_csv(Path('Resources/2019loans.csv'))\r\n",
    "test_df = pd.read_csv(Path('Resources/2020Q1loans.csv'))"
   ],
   "outputs": [],
   "metadata": {}
  },
  {
   "cell_type": "code",
   "execution_count": 3,
   "source": [
    "# Convert categorical data to numeric and separate target feature for training data\r\n",
    "Yes_No_dict = {'Y':1,'N':0}\r\n",
    "train_df2 = train_df.replace({'hardship_flag':Yes_No_dict, 'debt_settlement_flag':Yes_No_dict})\r\n",
    "Home_ownership_dict = {'ANY':0,'RENT':1,'MORTGAGE':2,'OWN':3}\r\n",
    "train_df3 = train_df2.replace({'home_ownership':Home_ownership_dict})\r\n",
    "verification_dict = {'Not Verified':0,'Source Verified':1,'Verified':1}\r\n",
    "train_df4 = train_df3.replace({'verification_status':verification_dict})\r\n",
    "Loan_status_dict = {'low_risk':1,'high_risk':0}\r\n",
    "train_df5 = train_df4.replace({'loan_status':Loan_status_dict})\r\n",
    "Initial_list_status_dict = {'w':0,'f':1}\r\n",
    "train_df6 = train_df5.replace({'initial_list_status':Initial_list_status_dict})\r\n",
    "Application_Type_dict = {'Individual':1,'Joint App':0}\r\n",
    "train_df7 = train_df6.replace({'application_type':Application_Type_dict})\r\n",
    "\r\n",
    "train_df8 = train_df7.drop(['index','pymnt_plan'],axis='columns')\r\n",
    "\r\n",
    "file_path = Path('Resources/cleaned_2019_credit_data.csv')\r\n",
    "train_df8.to_csv(file_path, index=False)"
   ],
   "outputs": [],
   "metadata": {}
  },
  {
   "cell_type": "code",
   "execution_count": 4,
   "source": [
    "train_df9 = train_df8.drop(['Unnamed: 0'],axis='columns')\r\n",
    "train_df9.head()\r\n",
    "\r\n",
    "X_train = train_df9.drop('loan_status', axis=1)\r\n",
    "y_train = train_df9['loan_status'].values\r\n",
    "print(X_train.select_dtypes(include=[object]))"
   ],
   "outputs": [
    {
     "output_type": "stream",
     "name": "stdout",
     "text": [
      "Empty DataFrame\n",
      "Columns: []\n",
      "Index: [0, 1, 2, 3, 4, 5, 6, 7, 8, 9, 10, 11, 12, 13, 14, 15, 16, 17, 18, 19, 20, 21, 22, 23, 24, 25, 26, 27, 28, 29, 30, 31, 32, 33, 34, 35, 36, 37, 38, 39, 40, 41, 42, 43, 44, 45, 46, 47, 48, 49, 50, 51, 52, 53, 54, 55, 56, 57, 58, 59, 60, 61, 62, 63, 64, 65, 66, 67, 68, 69, 70, 71, 72, 73, 74, 75, 76, 77, 78, 79, 80, 81, 82, 83, 84, 85, 86, 87, 88, 89, 90, 91, 92, 93, 94, 95, 96, 97, 98, 99, ...]\n",
      "\n",
      "[12180 rows x 0 columns]\n"
     ]
    }
   ],
   "metadata": {}
  },
  {
   "cell_type": "code",
   "execution_count": 5,
   "source": [
    "# Convert categorical data to numeric and separate target feature for testing data\r\n",
    "test_df2 = test_df.replace({'hardship_flag':Yes_No_dict, 'debt_settlement_flag':Yes_No_dict})\r\n",
    "test_df3 = test_df2.replace({'home_ownership':Home_ownership_dict})\r\n",
    "test_df4 = test_df3.replace({'verification_status':verification_dict})\r\n",
    "test_df5 = test_df4.replace({'loan_status':Loan_status_dict})\r\n",
    "test_df6 = test_df5.replace({'initial_list_status':Initial_list_status_dict})\r\n",
    "test_df7 = test_df6.replace({'application_type':Application_Type_dict})\r\n",
    "\r\n",
    "test_df8 = test_df7.drop(['index','pymnt_plan'],axis='columns')\r\n",
    "\r\n",
    "file_path = Path('Resources/cleaned_2020_credit_data.csv')\r\n",
    "test_df8.to_csv(file_path, index=False)"
   ],
   "outputs": [],
   "metadata": {}
  },
  {
   "cell_type": "code",
   "execution_count": 6,
   "source": [
    "test_df9 = test_df8.drop(['Unnamed: 0'],axis='columns')\r\n",
    "test_df9.head()\r\n",
    "\r\n"
   ],
   "outputs": [
    {
     "output_type": "execute_result",
     "data": {
      "text/html": [
       "<div>\n",
       "<style scoped>\n",
       "    .dataframe tbody tr th:only-of-type {\n",
       "        vertical-align: middle;\n",
       "    }\n",
       "\n",
       "    .dataframe tbody tr th {\n",
       "        vertical-align: top;\n",
       "    }\n",
       "\n",
       "    .dataframe thead th {\n",
       "        text-align: right;\n",
       "    }\n",
       "</style>\n",
       "<table border=\"1\" class=\"dataframe\">\n",
       "  <thead>\n",
       "    <tr style=\"text-align: right;\">\n",
       "      <th></th>\n",
       "      <th>loan_amnt</th>\n",
       "      <th>int_rate</th>\n",
       "      <th>installment</th>\n",
       "      <th>home_ownership</th>\n",
       "      <th>annual_inc</th>\n",
       "      <th>verification_status</th>\n",
       "      <th>loan_status</th>\n",
       "      <th>dti</th>\n",
       "      <th>delinq_2yrs</th>\n",
       "      <th>inq_last_6mths</th>\n",
       "      <th>...</th>\n",
       "      <th>pct_tl_nvr_dlq</th>\n",
       "      <th>percent_bc_gt_75</th>\n",
       "      <th>pub_rec_bankruptcies</th>\n",
       "      <th>tax_liens</th>\n",
       "      <th>tot_hi_cred_lim</th>\n",
       "      <th>total_bal_ex_mort</th>\n",
       "      <th>total_bc_limit</th>\n",
       "      <th>total_il_high_credit_limit</th>\n",
       "      <th>hardship_flag</th>\n",
       "      <th>debt_settlement_flag</th>\n",
       "    </tr>\n",
       "  </thead>\n",
       "  <tbody>\n",
       "    <tr>\n",
       "      <th>0</th>\n",
       "      <td>40000.0</td>\n",
       "      <td>0.0819</td>\n",
       "      <td>814.70</td>\n",
       "      <td>2</td>\n",
       "      <td>140000.0</td>\n",
       "      <td>0</td>\n",
       "      <td>1</td>\n",
       "      <td>19.75</td>\n",
       "      <td>0.0</td>\n",
       "      <td>1.0</td>\n",
       "      <td>...</td>\n",
       "      <td>97.7</td>\n",
       "      <td>0.0</td>\n",
       "      <td>0.0</td>\n",
       "      <td>0.0</td>\n",
       "      <td>527975.0</td>\n",
       "      <td>70914.0</td>\n",
       "      <td>74600.0</td>\n",
       "      <td>99475.0</td>\n",
       "      <td>0</td>\n",
       "      <td>0</td>\n",
       "    </tr>\n",
       "    <tr>\n",
       "      <th>1</th>\n",
       "      <td>6000.0</td>\n",
       "      <td>0.1524</td>\n",
       "      <td>208.70</td>\n",
       "      <td>1</td>\n",
       "      <td>55000.0</td>\n",
       "      <td>0</td>\n",
       "      <td>1</td>\n",
       "      <td>11.52</td>\n",
       "      <td>2.0</td>\n",
       "      <td>0.0</td>\n",
       "      <td>...</td>\n",
       "      <td>66.7</td>\n",
       "      <td>0.0</td>\n",
       "      <td>0.0</td>\n",
       "      <td>0.0</td>\n",
       "      <td>34628.0</td>\n",
       "      <td>23460.0</td>\n",
       "      <td>5900.0</td>\n",
       "      <td>23628.0</td>\n",
       "      <td>0</td>\n",
       "      <td>0</td>\n",
       "    </tr>\n",
       "    <tr>\n",
       "      <th>2</th>\n",
       "      <td>3600.0</td>\n",
       "      <td>0.1695</td>\n",
       "      <td>128.27</td>\n",
       "      <td>1</td>\n",
       "      <td>42000.0</td>\n",
       "      <td>0</td>\n",
       "      <td>1</td>\n",
       "      <td>6.74</td>\n",
       "      <td>0.0</td>\n",
       "      <td>0.0</td>\n",
       "      <td>...</td>\n",
       "      <td>100.0</td>\n",
       "      <td>0.0</td>\n",
       "      <td>0.0</td>\n",
       "      <td>0.0</td>\n",
       "      <td>23100.0</td>\n",
       "      <td>19183.0</td>\n",
       "      <td>7300.0</td>\n",
       "      <td>15000.0</td>\n",
       "      <td>0</td>\n",
       "      <td>0</td>\n",
       "    </tr>\n",
       "    <tr>\n",
       "      <th>3</th>\n",
       "      <td>20000.0</td>\n",
       "      <td>0.1524</td>\n",
       "      <td>478.33</td>\n",
       "      <td>1</td>\n",
       "      <td>100000.0</td>\n",
       "      <td>0</td>\n",
       "      <td>1</td>\n",
       "      <td>12.13</td>\n",
       "      <td>0.0</td>\n",
       "      <td>2.0</td>\n",
       "      <td>...</td>\n",
       "      <td>100.0</td>\n",
       "      <td>50.0</td>\n",
       "      <td>0.0</td>\n",
       "      <td>0.0</td>\n",
       "      <td>56481.0</td>\n",
       "      <td>43817.0</td>\n",
       "      <td>13800.0</td>\n",
       "      <td>35981.0</td>\n",
       "      <td>0</td>\n",
       "      <td>0</td>\n",
       "    </tr>\n",
       "    <tr>\n",
       "      <th>4</th>\n",
       "      <td>3600.0</td>\n",
       "      <td>0.1240</td>\n",
       "      <td>120.27</td>\n",
       "      <td>1</td>\n",
       "      <td>50000.0</td>\n",
       "      <td>0</td>\n",
       "      <td>1</td>\n",
       "      <td>16.08</td>\n",
       "      <td>0.0</td>\n",
       "      <td>3.0</td>\n",
       "      <td>...</td>\n",
       "      <td>100.0</td>\n",
       "      <td>25.0</td>\n",
       "      <td>0.0</td>\n",
       "      <td>0.0</td>\n",
       "      <td>45977.0</td>\n",
       "      <td>32448.0</td>\n",
       "      <td>21000.0</td>\n",
       "      <td>24977.0</td>\n",
       "      <td>0</td>\n",
       "      <td>0</td>\n",
       "    </tr>\n",
       "  </tbody>\n",
       "</table>\n",
       "<p>5 rows × 83 columns</p>\n",
       "</div>"
      ],
      "text/plain": [
       "   loan_amnt  int_rate  installment  home_ownership  annual_inc  \\\n",
       "0    40000.0    0.0819       814.70               2    140000.0   \n",
       "1     6000.0    0.1524       208.70               1     55000.0   \n",
       "2     3600.0    0.1695       128.27               1     42000.0   \n",
       "3    20000.0    0.1524       478.33               1    100000.0   \n",
       "4     3600.0    0.1240       120.27               1     50000.0   \n",
       "\n",
       "   verification_status  loan_status    dti  delinq_2yrs  inq_last_6mths  ...  \\\n",
       "0                    0            1  19.75          0.0             1.0  ...   \n",
       "1                    0            1  11.52          2.0             0.0  ...   \n",
       "2                    0            1   6.74          0.0             0.0  ...   \n",
       "3                    0            1  12.13          0.0             2.0  ...   \n",
       "4                    0            1  16.08          0.0             3.0  ...   \n",
       "\n",
       "   pct_tl_nvr_dlq  percent_bc_gt_75  pub_rec_bankruptcies  tax_liens  \\\n",
       "0            97.7               0.0                   0.0        0.0   \n",
       "1            66.7               0.0                   0.0        0.0   \n",
       "2           100.0               0.0                   0.0        0.0   \n",
       "3           100.0              50.0                   0.0        0.0   \n",
       "4           100.0              25.0                   0.0        0.0   \n",
       "\n",
       "   tot_hi_cred_lim  total_bal_ex_mort  total_bc_limit  \\\n",
       "0         527975.0            70914.0         74600.0   \n",
       "1          34628.0            23460.0          5900.0   \n",
       "2          23100.0            19183.0          7300.0   \n",
       "3          56481.0            43817.0         13800.0   \n",
       "4          45977.0            32448.0         21000.0   \n",
       "\n",
       "   total_il_high_credit_limit  hardship_flag  debt_settlement_flag  \n",
       "0                     99475.0              0                     0  \n",
       "1                     23628.0              0                     0  \n",
       "2                     15000.0              0                     0  \n",
       "3                     35981.0              0                     0  \n",
       "4                     24977.0              0                     0  \n",
       "\n",
       "[5 rows x 83 columns]"
      ]
     },
     "metadata": {},
     "execution_count": 6
    }
   ],
   "metadata": {}
  },
  {
   "cell_type": "code",
   "execution_count": 7,
   "source": [
    "# add missing dummy variables to testing set\r\n",
    "test_df10 = pd.get_dummies(test_df9)\r\n",
    "\r\n",
    "X_test = test_df10.drop('loan_status', axis=1)\r\n",
    "y_test = test_df10['loan_status'].values\r\n",
    "\r\n"
   ],
   "outputs": [],
   "metadata": {}
  },
  {
   "cell_type": "code",
   "execution_count": 8,
   "source": [
    "# Train the Logistic Regression model on the unscaled data and print the model score\r\n",
    "from sklearn.linear_model import LogisticRegression\r\n",
    "classifier = LogisticRegression(solver='lbfgs',max_iter=200)\r\n",
    "classifier.fit(X_train, y_train)\r\n",
    "print(f\"Training Data Score: {classifier.score(X_train, y_train)}\")\r\n",
    "print(f\"Testing Data Score: {classifier.score(X_test, y_test)}\")\r\n",
    "\r\n"
   ],
   "outputs": [
    {
     "output_type": "stream",
     "name": "stdout",
     "text": [
      "Training Data Score: 0.6524630541871921\n",
      "Testing Data Score: 0.5157379838366652\n"
     ]
    },
    {
     "output_type": "stream",
     "name": "stderr",
     "text": [
      "C:\\Users\\GPSchool\\Anaconda3\\envs\\PythonData\\lib\\site-packages\\sklearn\\linear_model\\_logistic.py:765: ConvergenceWarning: lbfgs failed to converge (status=1):\n",
      "STOP: TOTAL NO. of ITERATIONS REACHED LIMIT.\n",
      "\n",
      "Increase the number of iterations (max_iter) or scale the data as shown in:\n",
      "    https://scikit-learn.org/stable/modules/preprocessing.html\n",
      "Please also refer to the documentation for alternative solver options:\n",
      "    https://scikit-learn.org/stable/modules/linear_model.html#logistic-regression\n",
      "  extra_warning_msg=_LOGISTIC_SOLVER_CONVERGENCE_MSG)\n"
     ]
    }
   ],
   "metadata": {}
  },
  {
   "cell_type": "code",
   "execution_count": 9,
   "source": [
    "# Train a Random Forest Classifier model and print the model score\r\n",
    "from sklearn.ensemble import RandomForestClassifier\r\n",
    "\r\n",
    "clf = RandomForestClassifier(random_state=1, n_estimators=500).fit(X_train, y_train)\r\n",
    "print(f'Training Score: {clf.score(X_train, y_train)}')\r\n",
    "print(f'Testing Score: {clf.score(X_test, y_test)}')"
   ],
   "outputs": [
    {
     "output_type": "stream",
     "name": "stdout",
     "text": [
      "Training Score: 1.0\n",
      "Testing Score: 0.6399404508719694\n"
     ]
    }
   ],
   "metadata": {}
  },
  {
   "cell_type": "code",
   "execution_count": 10,
   "source": [
    "# Scale the data\r\n",
    "from sklearn.preprocessing import StandardScaler\r\n",
    "scaler = StandardScaler()\r\n",
    "X_train_scaled = scaler.fit_transform(X_train)\r\n",
    "X_test_scaled = scaler.fit_transform(X_test)"
   ],
   "outputs": [],
   "metadata": {}
  },
  {
   "cell_type": "code",
   "execution_count": 11,
   "source": [
    "# Train the Logistic Regression model on the scaled data and print the model score\r\n",
    "classifier.fit(X_train_scaled, y_train)\r\n",
    "print(f\"Training Data Score: {classifier.score(X_train_scaled, y_train)}\")\r\n",
    "print(f\"Testing Data Score: {classifier.score(X_test_scaled, y_test)}\")"
   ],
   "outputs": [
    {
     "output_type": "stream",
     "name": "stdout",
     "text": [
      "Training Data Score: 0.7060755336617406\n",
      "Testing Data Score: 0.6601446193109315\n"
     ]
    },
    {
     "output_type": "stream",
     "name": "stderr",
     "text": [
      "C:\\Users\\GPSchool\\Anaconda3\\envs\\PythonData\\lib\\site-packages\\sklearn\\linear_model\\_logistic.py:765: ConvergenceWarning: lbfgs failed to converge (status=1):\n",
      "STOP: TOTAL NO. of ITERATIONS REACHED LIMIT.\n",
      "\n",
      "Increase the number of iterations (max_iter) or scale the data as shown in:\n",
      "    https://scikit-learn.org/stable/modules/preprocessing.html\n",
      "Please also refer to the documentation for alternative solver options:\n",
      "    https://scikit-learn.org/stable/modules/linear_model.html#logistic-regression\n",
      "  extra_warning_msg=_LOGISTIC_SOLVER_CONVERGENCE_MSG)\n"
     ]
    }
   ],
   "metadata": {}
  },
  {
   "cell_type": "code",
   "execution_count": 12,
   "source": [
    "# Train a Random Forest Classifier model on the scaled data and print the model score\r\n",
    "print(f'Testing Score: {clf.score(X_test_scaled, y_test)}')"
   ],
   "outputs": [
    {
     "output_type": "stream",
     "name": "stdout",
     "text": [
      "Testing Score: 0.5\n"
     ]
    }
   ],
   "metadata": {}
  },
  {
   "cell_type": "code",
   "execution_count": null,
   "source": [],
   "outputs": [],
   "metadata": {}
  }
 ],
 "metadata": {
  "kernelspec": {
   "name": "python3",
   "display_name": "Python 3.6.10 64-bit ('PythonData': conda)"
  },
  "language_info": {
   "codemirror_mode": {
    "name": "ipython",
    "version": 3
   },
   "file_extension": ".py",
   "mimetype": "text/x-python",
   "name": "python",
   "nbconvert_exporter": "python",
   "pygments_lexer": "ipython3",
   "version": "3.6.10"
  },
  "interpreter": {
   "hash": "2f3a706b34eb0ea9bbb028628723f5cd93895146db5a4b3f252e9288b7f6741a"
  }
 },
 "nbformat": 4,
 "nbformat_minor": 4
}